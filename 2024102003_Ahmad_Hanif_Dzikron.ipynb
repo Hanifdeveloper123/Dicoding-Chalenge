{
  "nbformat": 4,
  "nbformat_minor": 0,
  "metadata": {
    "colab": {
      "provenance": [],
      "toc_visible": true,
      "authorship_tag": "ABX9TyO4EXz/6mZ9zSkkPkFOOkwk",
      "include_colab_link": true
    },
    "kernelspec": {
      "name": "python3",
      "display_name": "Python 3"
    },
    "language_info": {
      "name": "python"
    }
  },
  "cells": [
    {
      "cell_type": "markdown",
      "metadata": {
        "id": "view-in-github",
        "colab_type": "text"
      },
      "source": [
        "<a href=\"https://colab.research.google.com/github/Hanifdeveloper123/Dicoding-Chalenge/blob/main/2024102003_Ahmad_Hanif_Dzikron.ipynb\" target=\"_parent\"><img src=\"https://colab.research.google.com/assets/colab-badge.svg\" alt=\"Open In Colab\"/></a>"
      ]
    },
    {
      "cell_type": "code",
      "execution_count": null,
      "metadata": {
        "id": "RPugYOv7tZMu"
      },
      "outputs": [],
      "source": []
    },
    {
      "cell_type": "markdown",
      "source": [
        "Tugas Halaman 1"
      ],
      "metadata": {
        "id": "PumxEshnEW5J"
      }
    },
    {
      "cell_type": "code",
      "source": [
        "def hitung_faktorial(n):\n",
        "    faktorial = 1\n",
        "    for i in range(1, n + 1):\n",
        "        faktorial *= i\n",
        "    return faktorial\n",
        "\n",
        "def tampilkan_faktorial(n):\n",
        "    proses = \" x \".join(str(i) for i in range(n, 0, -1))\n",
        "    hasil = hitung_faktorial(n)\n",
        "    print(f\"{n}! = {proses}\")\n",
        "    print(f\"{n}! = {hasil}\")\n",
        "\n",
        "\n",
        "try:\n",
        "    bilangan = int(input(\"Masukkan bilangan bulat: \"))\n",
        "    if bilangan < 0:\n",
        "        print(\"Faktorial tidak dapat dihitung untuk bilangan negatif.\")\n",
        "    else:\n",
        "        tampilkan_faktorial(bilangan)\n",
        "except ValueError:\n",
        "    print(\"Harap masukkan bilangan bulat yang valid.\")\n",
        "\n"
      ],
      "metadata": {
        "colab": {
          "base_uri": "https://localhost:8080/"
        },
        "id": "WqRFNI2KvwTO",
        "outputId": "f1f9145c-f697-4191-b369-751eb00acba7"
      },
      "execution_count": 2,
      "outputs": [
        {
          "output_type": "stream",
          "name": "stdout",
          "text": [
            "Masukkan bilangan bulat: 5\n",
            "5! = 5 x 4 x 3 x 2 x 1\n",
            "5! = 120\n"
          ]
        }
      ]
    },
    {
      "cell_type": "markdown",
      "source": [
        "Tugas Halaman 2\n",
        "![Screenshot 2024-11-21 211201.png](data:image/png;base64,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)"
      ],
      "metadata": {
        "id": "WZdxRvFkEH2Z"
      }
    },
    {
      "cell_type": "code",
      "source": [
        "def main():\n",
        "    N = int(input(\"Masukkan jumlah anak ayam: \"))\n",
        "\n",
        "    while N > 0:\n",
        "        if N == 1:\n",
        "            print(f\"Anak ayam turun {N}, mati satu tinggal induknya\")\n",
        "        else:\n",
        "            print(f\"Anak ayam turun {N}, mati satu tinggal {N - 1}\")\n",
        "        N -= 1\n",
        "\n",
        "if __name__ == \"__main__\":\n",
        "    main()\n",
        "\n"
      ],
      "metadata": {
        "colab": {
          "base_uri": "https://localhost:8080/"
        },
        "id": "ncQtmWIFv0mG",
        "outputId": "c7f2e0e3-9545-4845-d58e-60238d57b469"
      },
      "execution_count": 4,
      "outputs": [
        {
          "output_type": "stream",
          "name": "stdout",
          "text": [
            "Masukkan jumlah anak ayam: 20\n",
            "Anak ayam turun 20, mati satu tinggal 19\n",
            "Anak ayam turun 19, mati satu tinggal 18\n",
            "Anak ayam turun 18, mati satu tinggal 17\n",
            "Anak ayam turun 17, mati satu tinggal 16\n",
            "Anak ayam turun 16, mati satu tinggal 15\n",
            "Anak ayam turun 15, mati satu tinggal 14\n",
            "Anak ayam turun 14, mati satu tinggal 13\n",
            "Anak ayam turun 13, mati satu tinggal 12\n",
            "Anak ayam turun 12, mati satu tinggal 11\n",
            "Anak ayam turun 11, mati satu tinggal 10\n",
            "Anak ayam turun 10, mati satu tinggal 9\n",
            "Anak ayam turun 9, mati satu tinggal 8\n",
            "Anak ayam turun 8, mati satu tinggal 7\n",
            "Anak ayam turun 7, mati satu tinggal 6\n",
            "Anak ayam turun 6, mati satu tinggal 5\n",
            "Anak ayam turun 5, mati satu tinggal 4\n",
            "Anak ayam turun 4, mati satu tinggal 3\n",
            "Anak ayam turun 3, mati satu tinggal 2\n",
            "Anak ayam turun 2, mati satu tinggal 1\n",
            "Anak ayam turun 1, mati satu tinggal induknya\n"
          ]
        }
      ]
    },
    {
      "cell_type": "markdown",
      "source": [
        "Tugas Nomer 3\n",
        "Buatlah tabel perubahan nilai A,B,C,D di layar dari diagram alir di bawah ini\n",
        "\n",
        "![image.png](data:image/png;base64,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)"
      ],
      "metadata": {
        "id": "d2AHfdeX_MkH"
      }
    },
    {
      "cell_type": "markdown",
      "source": [
        "Tugas Nomer 4"
      ],
      "metadata": {
        "id": "PfMGkLDixstT"
      }
    },
    {
      "cell_type": "markdown",
      "source": [
        "![image.png](\n",
        "  \n",
        ")![image.png](data:image/png;base64,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)\n"
      ],
      "metadata": {
        "id": "uPPj1akjm97s"
      }
    },
    {
      "cell_type": "markdown",
      "source": [
        "Tugas Nomer 5 Buatlah program pengurutan bilangan menggunakan algoritma Bubble Sort:\n"
      ],
      "metadata": {
        "id": "Csfs1pkE6Zhv"
      }
    },
    {
      "cell_type": "code",
      "source": [
        "def bubble_sort(arr):\n",
        "    n = len(arr)\n",
        "    for i in range(n):\n",
        "\n",
        "        for j in range(0, n-i-1):\n",
        "            if arr[j] > arr[j+1]:\n",
        "\n",
        "                arr[j], arr[j+1] = arr[j+1], arr[j]\n",
        "\n",
        "\n",
        "numbers = [13, 12, 41, 22, 25, 18, 32, 33, 52, 11]\n",
        "\n",
        "print(\"Bilangan sebelum diurutkan:\", numbers)\n",
        "\n",
        "\n",
        "bubble_sort(numbers)\n",
        "\n",
        "print(\"Bilangan setelah diurutkan:\", numbers)\n"
      ],
      "metadata": {
        "colab": {
          "base_uri": "https://localhost:8080/"
        },
        "id": "zHbHc6b-6ygN",
        "outputId": "5269ce96-cb84-4450-fc11-6def6d33a2a3"
      },
      "execution_count": 1,
      "outputs": [
        {
          "output_type": "stream",
          "name": "stdout",
          "text": [
            "Bilangan sebelum diurutkan: [13, 12, 41, 22, 25, 18, 32, 33, 52, 11]\n",
            "Bilangan setelah diurutkan: [11, 12, 13, 18, 22, 25, 32, 33, 41, 52]\n"
          ]
        }
      ]
    },
    {
      "cell_type": "markdown",
      "source": [
        "Tugas Nomer 5 Carilah nilai 17 dari sebuah array yang tidak terurut berikut menggunakan algoritma\n",
        "Sequential Search:\n",
        "myArr ="
      ],
      "metadata": {
        "id": "B0fAzpng6-Gv"
      }
    },
    {
      "cell_type": "code",
      "source": [
        "def sequential_search(arr, target):\n",
        "    for i in range(len(arr)):\n",
        "        if arr[i] == target:\n",
        "            return i\n",
        "    return -1\n",
        "\n",
        "\n",
        "myArr = [18, 20, 22, 13, 43, 23, 26, 16, 17, 25]\n",
        "\n",
        "\n",
        "target = 17\n",
        "\n",
        "\n",
        "index = sequential_search(myArr, target)\n",
        "\n",
        "\n",
        "if index != -1:\n",
        "    print(f\"Nilai {target} berada pada posisi index ke {index}\")\n",
        "else:\n",
        "    print(f\"Nilai {target} tidak ditemukan dalam array.\")\n"
      ],
      "metadata": {
        "colab": {
          "base_uri": "https://localhost:8080/"
        },
        "id": "4ZO6Z8IA7Fss",
        "outputId": "be753804-880c-46df-f00c-185d0c911c2e"
      },
      "execution_count": 2,
      "outputs": [
        {
          "output_type": "stream",
          "name": "stdout",
          "text": [
            "Nilai 17 berada pada posisi index ke 8\n"
          ]
        }
      ]
    },
    {
      "cell_type": "markdown",
      "source": [
        "Tugas Halaman 5 Urutkanlah terlebih dahulu array berikut menggunakan algoritma Bubble Sort, kemudian array\n",
        "yang sudah terurut tersebut simpan dengan nama mySortArr."
      ],
      "metadata": {
        "id": "R1h2x8lA72gr"
      }
    },
    {
      "cell_type": "code",
      "source": [
        "def bubble_sort(arr):\n",
        "    n = len(arr)\n",
        "    for i in range(n):\n",
        "        for j in range(0, n - i - 1):\n",
        "            if arr[j] > arr[j + 1]:\n",
        "                arr[j], arr[j + 1] = arr[j + 1], arr[j]\n",
        "    return arr\n",
        "\n",
        "def binary_search(arr, target):\n",
        "    left, right = 0, len(arr) - 1\n",
        "    while left <= right:\n",
        "        mid = (left + right) // 2\n",
        "        if arr[mid] == target:\n",
        "            return mid\n",
        "        elif arr[mid] < target:\n",
        "            left = mid + 1\n",
        "        else:\n",
        "            right = mid - 1\n",
        "    return -1\n",
        "\n",
        "\n",
        "myArr = [18, 20, 22, 13, 43, 23, 26, 16, 17, 25]\n",
        "\n",
        "\n",
        "mySortArr = bubble_sort(myArr)\n",
        "\n",
        "print(\"Array yang sudah terurut:\", mySortArr)\n",
        "\n",
        "\n",
        "target = 22\n",
        "index = binary_search(mySortArr, target)\n",
        "\n",
        "\n",
        "if index != -1:\n",
        "    print(f\"Nilai {target} berada pada posisi index ke {index}\")\n",
        "else:\n",
        "    print(f\"Nilai {target} tidak ditemukan dalam array.\")\n"
      ],
      "metadata": {
        "colab": {
          "base_uri": "https://localhost:8080/"
        },
        "id": "0c_IUqQf8Rhr",
        "outputId": "6ba5f9a1-d5bb-4897-b87e-c67a881b4fd1"
      },
      "execution_count": 3,
      "outputs": [
        {
          "output_type": "stream",
          "name": "stdout",
          "text": [
            "Array yang sudah terurut: [13, 16, 17, 18, 20, 22, 23, 25, 26, 43]\n",
            "Nilai 22 berada pada posisi index ke 5\n"
          ]
        }
      ]
    }
  ]
}